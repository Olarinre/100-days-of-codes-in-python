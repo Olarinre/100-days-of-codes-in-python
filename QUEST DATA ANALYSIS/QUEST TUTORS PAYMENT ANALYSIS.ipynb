{
 "cells": [
  {
   "cell_type": "code",
   "execution_count": 38,
   "id": "5d8e2b6d",
   "metadata": {},
   "outputs": [],
   "source": [
    "import numpy as np\n",
    "import pandas as pd\n",
    "from matplotlib import rcParams"
   ]
  },
  {
   "cell_type": "code",
   "execution_count": 3,
   "id": "79c4fc21",
   "metadata": {},
   "outputs": [],
   "source": [
    "import matplotlib.pyplot as plt\n",
    "import seaborn as sns\n",
    "%matplotlib inline"
   ]
  },
  {
   "cell_type": "code",
   "execution_count": 19,
   "id": "441bb76b",
   "metadata": {},
   "outputs": [],
   "source": [
    "import datetime"
   ]
  },
  {
   "cell_type": "code",
   "execution_count": 6,
   "id": "1ab8f9b0",
   "metadata": {},
   "outputs": [],
   "source": [
    "df = pd.read_csv(r\"C:\\Users\\USER\\Downloads\\em-6404d2ee6262c.csv\")"
   ]
  },
  {
   "cell_type": "code",
   "execution_count": 7,
   "id": "977d377c",
   "metadata": {},
   "outputs": [
    {
     "data": {
      "text/html": [
       "<div>\n",
       "<style scoped>\n",
       "    .dataframe tbody tr th:only-of-type {\n",
       "        vertical-align: middle;\n",
       "    }\n",
       "\n",
       "    .dataframe tbody tr th {\n",
       "        vertical-align: top;\n",
       "    }\n",
       "\n",
       "    .dataframe thead th {\n",
       "        text-align: right;\n",
       "    }\n",
       "</style>\n",
       "<table border=\"1\" class=\"dataframe\">\n",
       "  <thead>\n",
       "    <tr style=\"text-align: right;\">\n",
       "      <th></th>\n",
       "      <th>SN</th>\n",
       "      <th>Date</th>\n",
       "      <th>Name</th>\n",
       "      <th>Department</th>\n",
       "      <th>Amount</th>\n",
       "      <th>Balance</th>\n",
       "      <th>Collector</th>\n",
       "    </tr>\n",
       "  </thead>\n",
       "  <tbody>\n",
       "    <tr>\n",
       "      <th>0</th>\n",
       "      <td>1</td>\n",
       "      <td>02-09-2020</td>\n",
       "      <td>Olawuni ayomide covenant</td>\n",
       "      <td>Science</td>\n",
       "      <td>3,000.00</td>\n",
       "      <td>3,000.00</td>\n",
       "      <td>Giwa kemi</td>\n",
       "    </tr>\n",
       "    <tr>\n",
       "      <th>1</th>\n",
       "      <td>2</td>\n",
       "      <td>02-09-2020</td>\n",
       "      <td>Odeyemi dotun adedayor</td>\n",
       "      <td>Arts</td>\n",
       "      <td>3,500.00</td>\n",
       "      <td>2,500.00</td>\n",
       "      <td>Giwa kemi</td>\n",
       "    </tr>\n",
       "    <tr>\n",
       "      <th>2</th>\n",
       "      <td>3</td>\n",
       "      <td>02-09-2020</td>\n",
       "      <td>Owonifari oreoluaa</td>\n",
       "      <td>Arts</td>\n",
       "      <td>6,000.00</td>\n",
       "      <td>0</td>\n",
       "      <td>Giwa kemi</td>\n",
       "    </tr>\n",
       "    <tr>\n",
       "      <th>3</th>\n",
       "      <td>4</td>\n",
       "      <td>02-09-2020</td>\n",
       "      <td>Ojeade jeremiah</td>\n",
       "      <td>Science</td>\n",
       "      <td>2,000.00</td>\n",
       "      <td>1,000.00</td>\n",
       "      <td>Giwa kemi</td>\n",
       "    </tr>\n",
       "    <tr>\n",
       "      <th>4</th>\n",
       "      <td>5</td>\n",
       "      <td>02-09-2020</td>\n",
       "      <td>Junaid martins</td>\n",
       "      <td>Science</td>\n",
       "      <td>5,000.00</td>\n",
       "      <td>1,000.00</td>\n",
       "      <td>Giwa kemi</td>\n",
       "    </tr>\n",
       "    <tr>\n",
       "      <th>...</th>\n",
       "      <td>...</td>\n",
       "      <td>...</td>\n",
       "      <td>...</td>\n",
       "      <td>...</td>\n",
       "      <td>...</td>\n",
       "      <td>...</td>\n",
       "      <td>...</td>\n",
       "    </tr>\n",
       "    <tr>\n",
       "      <th>2852</th>\n",
       "      <td>2853</td>\n",
       "      <td>28-02-2023</td>\n",
       "      <td>Osunwusi Favour</td>\n",
       "      <td>Science</td>\n",
       "      <td>3,000.00</td>\n",
       "      <td>0</td>\n",
       "      <td>ODEWOLE OPEYEMI EMMANUEL</td>\n",
       "    </tr>\n",
       "    <tr>\n",
       "      <th>2853</th>\n",
       "      <td>2854</td>\n",
       "      <td>28-02-2023</td>\n",
       "      <td>Adebisi Selim</td>\n",
       "      <td>Arts</td>\n",
       "      <td>3,000.00</td>\n",
       "      <td>0</td>\n",
       "      <td>ODEWOLE OPEYEMI EMMANUEL</td>\n",
       "    </tr>\n",
       "    <tr>\n",
       "      <th>2854</th>\n",
       "      <td>2855</td>\n",
       "      <td>28-02-2023</td>\n",
       "      <td>Banjo bukola</td>\n",
       "      <td>Science</td>\n",
       "      <td>3,000.00</td>\n",
       "      <td>3,000.00</td>\n",
       "      <td>ODEWOLE OPEYEMI EMMANUEL</td>\n",
       "    </tr>\n",
       "    <tr>\n",
       "      <th>2855</th>\n",
       "      <td>NaN</td>\n",
       "      <td>NaN</td>\n",
       "      <td>NaN</td>\n",
       "      <td>NaN</td>\n",
       "      <td>NaN</td>\n",
       "      <td>NaN</td>\n",
       "      <td>NaN</td>\n",
       "    </tr>\n",
       "    <tr>\n",
       "      <th>2856</th>\n",
       "      <td>Total</td>\n",
       "      <td>NaN</td>\n",
       "      <td>NaN</td>\n",
       "      <td>NaN</td>\n",
       "      <td>9,086,558.00</td>\n",
       "      <td>NaN</td>\n",
       "      <td>NaN</td>\n",
       "    </tr>\n",
       "  </tbody>\n",
       "</table>\n",
       "<p>2857 rows × 7 columns</p>\n",
       "</div>"
      ],
      "text/plain": [
       "         SN        Date                      Name Department        Amount  \\\n",
       "0         1  02-09-2020  Olawuni ayomide covenant    Science      3,000.00   \n",
       "1         2  02-09-2020    Odeyemi dotun adedayor       Arts      3,500.00   \n",
       "2         3  02-09-2020        Owonifari oreoluaa       Arts      6,000.00   \n",
       "3         4  02-09-2020           Ojeade jeremiah    Science      2,000.00   \n",
       "4         5  02-09-2020            Junaid martins    Science      5,000.00   \n",
       "...     ...         ...                       ...        ...           ...   \n",
       "2852   2853  28-02-2023           Osunwusi Favour    Science      3,000.00   \n",
       "2853   2854  28-02-2023             Adebisi Selim       Arts      3,000.00   \n",
       "2854   2855  28-02-2023              Banjo bukola    Science      3,000.00   \n",
       "2855    NaN         NaN                       NaN        NaN           NaN   \n",
       "2856  Total         NaN                       NaN        NaN  9,086,558.00   \n",
       "\n",
       "       Balance                 Collector  \n",
       "0     3,000.00                 Giwa kemi  \n",
       "1     2,500.00                 Giwa kemi  \n",
       "2            0                 Giwa kemi  \n",
       "3     1,000.00                 Giwa kemi  \n",
       "4     1,000.00                 Giwa kemi  \n",
       "...        ...                       ...  \n",
       "2852         0  ODEWOLE OPEYEMI EMMANUEL  \n",
       "2853         0  ODEWOLE OPEYEMI EMMANUEL  \n",
       "2854  3,000.00  ODEWOLE OPEYEMI EMMANUEL  \n",
       "2855       NaN                       NaN  \n",
       "2856       NaN                       NaN  \n",
       "\n",
       "[2857 rows x 7 columns]"
      ]
     },
     "execution_count": 7,
     "metadata": {},
     "output_type": "execute_result"
    }
   ],
   "source": [
    "df"
   ]
  },
  {
   "cell_type": "code",
   "execution_count": 9,
   "id": "d949829a",
   "metadata": {},
   "outputs": [
    {
     "name": "stdout",
     "output_type": "stream",
     "text": [
      "<class 'pandas.core.frame.DataFrame'>\n",
      "RangeIndex: 2857 entries, 0 to 2856\n",
      "Data columns (total 7 columns):\n",
      " #   Column      Non-Null Count  Dtype \n",
      "---  ------      --------------  ----- \n",
      " 0   SN          2856 non-null   object\n",
      " 1   Date        2855 non-null   object\n",
      " 2   Name        2855 non-null   object\n",
      " 3   Department  2855 non-null   object\n",
      " 4   Amount      2856 non-null   object\n",
      " 5   Balance     2855 non-null   object\n",
      " 6   Collector   2855 non-null   object\n",
      "dtypes: object(7)\n",
      "memory usage: 156.4+ KB\n"
     ]
    }
   ],
   "source": [
    "df.info()"
   ]
  },
  {
   "cell_type": "code",
   "execution_count": 10,
   "id": "dbc836e2",
   "metadata": {},
   "outputs": [
    {
     "data": {
      "text/plain": [
       "Olayiwola tobiloba           16\n",
       "Abdulazeez Habeeb olayemi    12\n",
       "Ibechi  favour               10\n",
       "Faniyi joshua                10\n",
       "Afolabi ololade grace        10\n",
       "                             ..\n",
       "Adebowale daniel              1\n",
       "Elujulo pelumi                1\n",
       "Adeola adeyemi                1\n",
       "Atoyebi Ifeoluwa              1\n",
       "Kayode oluwabamise            1\n",
       "Name: Name, Length: 1297, dtype: int64"
      ]
     },
     "execution_count": 10,
     "metadata": {},
     "output_type": "execute_result"
    }
   ],
   "source": [
    "df['Name'].value_counts()"
   ]
  },
  {
   "cell_type": "code",
   "execution_count": 11,
   "id": "1ce01e0e",
   "metadata": {},
   "outputs": [
    {
     "data": {
      "text/plain": [
       "1297"
      ]
     },
     "execution_count": 11,
     "metadata": {},
     "output_type": "execute_result"
    }
   ],
   "source": [
    "df['Name'].nunique()"
   ]
  },
  {
   "cell_type": "code",
   "execution_count": 12,
   "id": "098fe6aa",
   "metadata": {},
   "outputs": [
    {
     "data": {
      "text/plain": [
       "array(['Olawuni ayomide covenant', 'Odeyemi dotun adedayor',\n",
       "       'Owonifari oreoluaa', ..., 'Adeniji Uthman',\n",
       "       'Akanbi Haliyah Abisola', nan], dtype=object)"
      ]
     },
     "execution_count": 12,
     "metadata": {},
     "output_type": "execute_result"
    }
   ],
   "source": [
    "df['Name'].unique()"
   ]
  },
  {
   "cell_type": "code",
   "execution_count": 16,
   "id": "0372fe69",
   "metadata": {},
   "outputs": [
    {
     "data": {
      "text/plain": [
       "str"
      ]
     },
     "execution_count": 16,
     "metadata": {},
     "output_type": "execute_result"
    }
   ],
   "source": [
    "type(df['Amount'][0])"
   ]
  },
  {
   "cell_type": "code",
   "execution_count": 24,
   "id": "ebda451c",
   "metadata": {},
   "outputs": [],
   "source": [
    "#convert the date column to datetime object\n",
    "df[\"Date\"]= pd.to_datetime(df[\"Date\"])"
   ]
  },
  {
   "cell_type": "code",
   "execution_count": 31,
   "id": "760560d6",
   "metadata": {},
   "outputs": [
    {
     "name": "stdout",
     "output_type": "stream",
     "text": [
      "<class 'pandas.core.frame.DataFrame'>\n",
      "RangeIndex: 2857 entries, 0 to 2856\n",
      "Data columns (total 8 columns):\n",
      " #   Column      Non-Null Count  Dtype         \n",
      "---  ------      --------------  -----         \n",
      " 0   SN          2856 non-null   object        \n",
      " 1   Date        2855 non-null   datetime64[ns]\n",
      " 2   Name        2855 non-null   object        \n",
      " 3   Department  2855 non-null   object        \n",
      " 4   Amount      2856 non-null   object        \n",
      " 5   Balance     2855 non-null   object        \n",
      " 6   Collector   2855 non-null   object        \n",
      " 7   Year        2855 non-null   object        \n",
      "dtypes: datetime64[ns](1), object(7)\n",
      "memory usage: 178.7+ KB\n"
     ]
    }
   ],
   "source": [
    "df.info()"
   ]
  },
  {
   "cell_type": "code",
   "execution_count": 30,
   "id": "600c9196",
   "metadata": {},
   "outputs": [],
   "source": [
    "df['Year'] = df['Date'].dt.strftime('%Y')"
   ]
  },
  {
   "cell_type": "code",
   "execution_count": 33,
   "id": "73d87364",
   "metadata": {},
   "outputs": [
    {
     "data": {
      "text/plain": [
       "<AxesSubplot:xlabel='Year', ylabel='count'>"
      ]
     },
     "execution_count": 33,
     "metadata": {},
     "output_type": "execute_result"
    },
    {
     "data": {
      "image/png": "[encoded data removed]",
      "text/plain": [
       "<Figure size 432x288 with 1 Axes>"
      ]
     },
     "metadata": {
      "needs_background": "light"
     },
     "output_type": "display_data"
    }
   ],
   "source": [
    "sns.countplot(x = \"Year\", data = df, hue = \"Department\")\n",
    "#this shows that the populatiion of the science students have always been mmore than that of the other two departments,\n",
    "#with the commercial department being the lowest."
   ]
  },
  {
   "cell_type": "code",
   "execution_count": 63,
   "id": "247d6489",
   "metadata": {},
   "outputs": [
    {
     "data": {
      "image/png": "[encoded data removed]",
      "text/plain": [
       "<Figure size 2160x1440 with 1 Axes>"
      ]
     },
     "metadata": {},
     "output_type": "display_data"
    }
   ],
   "source": [
    "#lets see the trend in their patyments too\n",
    "sns.countplot(x=df[\"Amount\"][0:-2], data = df, )\n",
    "sns.set(rc={'figure.figsize':(15,20)})"
   ]
  },
  {
   "cell_type": "code",
   "execution_count": null,
   "id": "7278fbdb",
   "metadata": {},
   "outputs": [],
   "source": []
  }
 ],
 "metadata": {
  "kernelspec": {
   "display_name": "Python 3",
   "language": "python",
   "name": "python3"
  },
  "language_info": {
   "codemirror_mode": {
    "name": "ipython",
    "version": 3
   },
   "file_extension": ".py",
   "mimetype": "text/x-python",
   "name": "python",
   "nbconvert_exporter": "python",
   "pygments_lexer": "ipython3",
   "version": "3.8.8"
  }
 },
 "nbformat": 4,
 "nbformat_minor": 5
}
