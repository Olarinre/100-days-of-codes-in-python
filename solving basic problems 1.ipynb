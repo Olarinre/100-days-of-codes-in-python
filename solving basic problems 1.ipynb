{
 "cells": [
  {
   "cell_type": "markdown",
   "id": "35d08df8",
   "metadata": {},
   "source": [
    "# playing around with logic"
   ]
  },
  {
   "cell_type": "markdown",
   "id": "01035727",
   "metadata": {},
   "source": [
    "100 days of coding"
   ]
  },
  {
   "cell_type": "code",
   "execution_count": 23,
   "id": "57689785",
   "metadata": {
    "scrolled": true
   },
   "outputs": [
    {
     "name": "stdout",
     "output_type": "stream",
     "text": [
      " 1 is the 1st no\n",
      " 2 is the 2nd no\n",
      " 3 is the 3rd no\n",
      " 4 is the 4th no\n",
      " 5 is the 5th no\n",
      " 6 is the 6th no\n",
      " 7 is the 7th no\n",
      " 8 is the 8th no\n",
      " 9 is the 9th no\n",
      " 10 is the 10th no\n",
      " 11 is the 11th no\n",
      " 12 is the 12th no\n",
      " 13 is the 13th no\n",
      " 14 is the 14th no\n",
      " 15 is the 15th no\n",
      " 16 is the 16th no\n",
      " 17 is the 17th no\n",
      " 18 is the 18th no\n",
      " 19 is the 19th no\n",
      " 20 is the 20th no\n",
      " 21 is the 21th no\n",
      " 22 is the 22th no\n",
      " 23 is the 23th no\n",
      " 24 is the 24th no\n",
      " 25 is the 25th no\n",
      " 26 is the 26th no\n",
      " 27 is the 27th no\n",
      " 28 is the 28th no\n",
      " 29 is the 29th no\n",
      " 30 is the 30th no\n",
      " 31 is the 31th no\n",
      " 32 is the 32th no\n",
      " 33 is the 33th no\n",
      " 34 is the 34th no\n",
      " 35 is the 35th no\n",
      " 36 is the 36th no\n",
      " 37 is the 37th no\n",
      " 38 is the 38th no\n",
      " 39 is the 39th no\n",
      " 40 is the 40th no\n",
      " 41 is the 41th no\n",
      " 42 is the 42th no\n",
      " 43 is the 43th no\n",
      " 44 is the 44th no\n",
      " 45 is the 45th no\n",
      " 46 is the 46th no\n",
      " 47 is the 47th no\n",
      " 48 is the 48th no\n",
      " 49 is the 49th no\n",
      " 50 is the 50th no\n",
      " 51 is the 51th no\n",
      " 52 is the 52th no\n",
      " 53 is the 53th no\n",
      " 54 is the 54th no\n",
      " 55 is the 55th no\n",
      " 56 is the 56th no\n",
      " 57 is the 57th no\n",
      " 58 is the 58th no\n",
      " 59 is the 59th no\n",
      " 60 is the 60th no\n",
      " 61 is the 61th no\n",
      " 62 is the 62th no\n",
      " 63 is the 63th no\n",
      " 64 is the 64th no\n",
      " 65 is the 65th no\n",
      " 66 is the 66th no\n",
      " 67 is the 67th no\n",
      " 68 is the 68th no\n",
      " 69 is the 69th no\n",
      " 70 is the 70th no\n",
      " 71 is the 71th no\n",
      " 72 is the 72th no\n",
      " 73 is the 73th no\n",
      " 74 is the 74th no\n",
      " 75 is the 75th no\n",
      " 76 is the 76th no\n",
      " 77 is the 77th no\n",
      " 78 is the 78th no\n",
      " 79 is the 79th no\n",
      " 80 is the 80th no\n",
      " 81 is the 81th no\n",
      " 82 is the 82th no\n",
      " 83 is the 83th no\n",
      " 84 is the 84th no\n",
      " 85 is the 85th no\n",
      " 86 is the 86th no\n",
      " 87 is the 87th no\n",
      " 88 is the 88th no\n",
      " 89 is the 89th no\n",
      " 90 is the 90th no\n",
      " 91 is the 91th no\n",
      " 92 is the 92th no\n",
      " 93 is the 93th no\n",
      " 94 is the 94th no\n",
      " 95 is the 95th no\n",
      " 96 is the 96th no\n",
      " 97 is the 97th no\n",
      " 98 is the 98th no\n",
      " 99 is the 99th no\n",
      " 100 is the 100th no\n"
     ]
    }
   ],
   "source": [
    "pos = ['st','nd','rd','th']\n",
    "for i in range(1,100+1):\n",
    "    if (i == 1):\n",
    "        print(f\" {i} is the {str(i)+pos[i-1]} no\")\n",
    "    elif (i==2):\n",
    "        print(f\" {i} is the {str(i)+pos[i-1]} no\")\n",
    "    elif (i==3):\n",
    "        print(f\" {i} is the {str(i)+pos[i-1]} no\")\n",
    "    else:\n",
    "        print(f\" {i} is the {str(i)+pos[3]} no\")\n",
    "        \n",
    "    #print(f'{i} is the {str(i)+pos[i-1]} no')"
   ]
  },
  {
   "cell_type": "code",
   "execution_count": null,
   "id": "b459397e",
   "metadata": {},
   "outputs": [],
   "source": []
  },
  {
   "cell_type": "code",
   "execution_count": null,
   "id": "84733953",
   "metadata": {},
   "outputs": [],
   "source": []
  }
 ],
 "metadata": {
  "kernelspec": {
   "display_name": "Python 3",
   "language": "python",
   "name": "python3"
  },
  "language_info": {
   "codemirror_mode": {
    "name": "ipython",
    "version": 3
   },
   "file_extension": ".py",
   "mimetype": "text/x-python",
   "name": "python",
   "nbconvert_exporter": "python",
   "pygments_lexer": "ipython3",
   "version": "3.8.8"
  }
 },
 "nbformat": 4,
 "nbformat_minor": 5
}
